{
 "cells": [
  {
   "cell_type": "code",
   "execution_count": 1,
   "metadata": {
    "collapsed": false
   },
   "outputs": [
    {
     "name": "stderr",
     "output_type": "stream",
     "text": [
      "WARNING! Did not find encoder parameters for channel trapDistance!\n"
     ]
    },
    {
     "name": "stdout",
     "output_type": "stream",
     "text": [
      "This JPKFile has a shared header!\n"
     ]
    },
    {
     "name": "stderr",
     "output_type": "stream",
     "text": [
      "WARNING! Did not find encoder parameters for channel trapDistance!\n"
     ]
    }
   ],
   "source": [
    "import jpkfile\n",
    "jpk = jpkfile.JPKFile(\"force-save-2016.07.05-10.00.50.062.jpk-nt-force\")\n",
    "if jpk.has_shared_header:\n",
    "    print(\"This JPKFile has a shared header!\")"
   ]
  },
  {
   "cell_type": "markdown",
   "metadata": {},
   "source": [
    "* Some JPK archives have a shared header.\n",
    "* How to replace links to parameters from local header to shared header with actual parameters?"
   ]
  },
  {
   "cell_type": "code",
   "execution_count": 6,
   "metadata": {
    "collapsed": true
   },
   "outputs": [],
   "source": [
    "def find_link(parameter_subset,link_keys,chain):\n",
    "    print \"==== loop starting with chain \",chain\n",
    "    for key in parameter_subset:\n",
    "        print \"==== ==== processing key \",key\n",
    "        copy_chain = chain[:]\n",
    "        copy_chain.append(key)\n",
    "        if key in link_keys:\n",
    "            print \"==== ==== ==== identified key as link\"\n",
    "            return copy_chain\n",
    "        else:\n",
    "            if isinstance(parameter_subset[key],dict):\n",
    "                print \"==== ==== ==== key is no link and value is dict\" \n",
    "                return find_link(parameter_subset[key],link_keys,copy_chain)\n",
    "            else:\n",
    "                print \"==== ==== ==== key is no link, value is no dict --> aborting\"\n",
    "                return None"
   ]
  },
  {
   "cell_type": "code",
   "execution_count": 7,
   "metadata": {
    "collapsed": false
   },
   "outputs": [
    {
     "name": "stdout",
     "output_type": "stream",
     "text": [
      "==== loop starting with chain  []\n",
      "==== ==== processing key  date\n",
      "==== ==== ==== identified key as link\n"
     ]
    }
   ],
   "source": [
    "links = find_link(jpk.segments[0].parameters, jpk.shared_parameters.keys(),[])"
   ]
  },
  {
   "cell_type": "code",
   "execution_count": null,
   "metadata": {
    "collapsed": true
   },
   "outputs": [],
   "source": []
  },
  {
   "cell_type": "code",
   "execution_count": null,
   "metadata": {
    "collapsed": true
   },
   "outputs": [],
   "source": []
  },
  {
   "cell_type": "code",
   "execution_count": 2,
   "metadata": {
    "collapsed": false
   },
   "outputs": [
    {
     "name": "stdout",
     "output_type": "stream",
     "text": [
      "[6, 2, 12]\n",
      "[1, 2, 12]\n"
     ]
    }
   ],
   "source": [
    "l = [6,2,12]\n",
    "a = l[:]\n",
    "a[0]=1\n",
    "print l\n",
    "print a"
   ]
  },
  {
   "cell_type": "code",
   "execution_count": null,
   "metadata": {
    "collapsed": true
   },
   "outputs": [],
   "source": []
  }
 ],
 "metadata": {
  "kernelspec": {
   "display_name": "Python 2",
   "language": "python",
   "name": "python2"
  },
  "language_info": {
   "codemirror_mode": {
    "name": "ipython",
    "version": 2
   },
   "file_extension": ".py",
   "mimetype": "text/x-python",
   "name": "python",
   "nbconvert_exporter": "python",
   "pygments_lexer": "ipython2",
   "version": "2.7.6"
  }
 },
 "nbformat": 4,
 "nbformat_minor": 0
}
