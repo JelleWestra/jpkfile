{
 "cells": [
  {
   "cell_type": "markdown",
   "metadata": {},
   "source": [
    "## Load the module\n",
    "If you added the folder in which `jpkfile.py` is to you site-packages, you should be able to import the module."
   ]
  },
  {
   "cell_type": "code",
   "execution_count": 1,
   "metadata": {
    "collapsed": false
   },
   "outputs": [],
   "source": [
    "import jpkfile"
   ]
  },
  {
   "cell_type": "markdown",
   "metadata": {},
   "source": [
    "## Create a JPKFile object"
   ]
  },
  {
   "cell_type": "code",
   "execution_count": 2,
   "metadata": {
    "collapsed": false
   },
   "outputs": [],
   "source": [
    "jpk = jpkfile.JPKFile(\"../examples/force-save-2016.06.15-13.17.08.jpk-force\")"
   ]
  },
  {
   "cell_type": "markdown",
   "metadata": {},
   "source": [
    "## Structure of JPKFile objects"
   ]
  },
  {
   "cell_type": "markdown",
   "metadata": {},
   "source": [
    "* Data is separated in segments in jpk archives. Thus, it is separated in JPKFile objects as well. The member JPKFile.segments is a list of JPKSegment objects."
   ]
  },
  {
   "cell_type": "code",
   "execution_count": 3,
   "metadata": {
    "collapsed": false
   },
   "outputs": [
    {
     "data": {
      "text/plain": [
       "{0: <jpkfile.JPKSegment instance at 0x7f1f3ff0ad88>,\n",
       " 1: <jpkfile.JPKSegment instance at 0x7f1f3aa8ac68>,\n",
       " 2: <jpkfile.JPKSegment instance at 0x7f1f3ff1ad88>,\n",
       " 3: <jpkfile.JPKSegment instance at 0x7f1f3ff1ab00>}"
      ]
     },
     "execution_count": 3,
     "metadata": {},
     "output_type": "execute_result"
    }
   ],
   "source": [
    "jpk.segments"
   ]
  },
  {
   "cell_type": "markdown",
   "metadata": {},
   "source": [
    "* To get some basic information on the jpk archive behin the JPKFile object, you can use the JPKFile.get_info function. Note that 'segments' is currently the only working keyword here ..."
   ]
  },
  {
   "cell_type": "code",
   "execution_count": 7,
   "metadata": {
    "collapsed": false
   },
   "outputs": [
    {
     "name": "stdout",
     "output_type": "stream",
     "text": [
      "======================================================================\n",
      "SEGMENT\tTYPE\tNUM POINTS\tDURATION\n",
      "-------\t----\t----------\t--------\n",
      "0\textend\t60000\t\t10.0\n",
      "1\tpause\t30000\t\t5.0\n",
      "2\tretract\t60000\t\t10.0\n",
      "3\tpause\t2\t\t5.0\n",
      "======================================================================\n",
      "\n"
     ]
    }
   ],
   "source": [
    "print(jpk.get_info('segments'))"
   ]
  },
  {
   "cell_type": "markdown",
   "metadata": {},
   "source": []
  }
 ],
 "metadata": {
  "kernelspec": {
   "display_name": "Python 2",
   "language": "python",
   "name": "python2"
  },
  "language_info": {
   "codemirror_mode": {
    "name": "ipython",
    "version": 2
   },
   "file_extension": ".py",
   "mimetype": "text/x-python",
   "name": "python",
   "nbconvert_exporter": "python",
   "pygments_lexer": "ipython2",
   "version": "2.7.6"
  }
 },
 "nbformat": 4,
 "nbformat_minor": 0
}
