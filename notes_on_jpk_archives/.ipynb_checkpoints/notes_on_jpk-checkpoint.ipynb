{
 "cells": [
  {
   "cell_type": "markdown",
   "metadata": {},
   "source": [
    "# JPK archive\n",
    "\n",
    "\n",
    "JPK files are zipped archives of data. \n",
    "\n",
    "* There is a header file at the top-level\n",
    "* Header files are normal text files, nothing special needed to read them\n",
    "* There is a segments folder\n",
    "    * the segments folder contains numbered folders, one per segment  \n",
    "    * each folder in segments contains another header file\n",
    "    * each folder in segments contains a folder named channels\n",
    "        * each channels folder contains several data files\n",
    "        * data files contain data in C short format, at least in my example file\n",
    "        * there seems to be no header in the .dat files, only pure (integer, i.e. short) data"
   ]
  },
  {
   "cell_type": "markdown",
   "metadata": {},
   "source": [
    "## Reading data from JPK archives"
   ]
  },
  {
   "cell_type": "markdown",
   "metadata": {},
   "source": [
    "### 1. Open the zipped archive using zipfile"
   ]
  },
  {
   "cell_type": "code",
   "execution_count": 1,
   "metadata": {
    "collapsed": true
   },
   "outputs": [],
   "source": [
    "from zipfile import ZipFile\n",
    "fname = \"../examples/force-save-2016.06.15-13.17.08.jpk-force\""
   ]
  },
  {
   "cell_type": "code",
   "execution_count": 2,
   "metadata": {
    "collapsed": true
   },
   "outputs": [],
   "source": [
    "z = ZipFile(fname)"
   ]
  },
  {
   "cell_type": "markdown",
   "metadata": {},
   "source": [
    "#### It you can get the list of files stored in the zip archive, and you can open files using the instance's open function"
   ]
  },
  {
   "cell_type": "code",
   "execution_count": 3,
   "metadata": {
    "collapsed": true
   },
   "outputs": [
    {
     "name": "stdout",
     "output_type": "stream",
     "text": [
      "header.properties\n",
      "segments/\n",
      "segments/0/\n",
      "segments/0/segment-header.properties\n",
      "segments/0/channels/height.dat\n",
      "segments/0/channels/vDeflection.dat\n",
      "segments/0/channels/strainGaugeHeight.dat\n",
      "segments/0/channels/hDeflection.dat\n",
      "segments/0/channels/error.dat\n",
      "segments/1/\n",
      "segments/1/segment-header.properties\n",
      "segments/1/channels/height.dat\n",
      "segments/1/channels/vDeflection.dat\n",
      "segments/1/channels/strainGaugeHeight.dat\n",
      "segments/1/channels/hDeflection.dat\n",
      "segments/1/channels/error.dat\n",
      "segments/2/\n",
      "segments/2/segment-header.properties\n",
      "segments/2/channels/height.dat\n",
      "segments/2/channels/vDeflection.dat\n",
      "segments/2/channels/strainGaugeHeight.dat\n",
      "segments/2/channels/hDeflection.dat\n",
      "segments/2/channels/error.dat\n",
      "segments/3/\n",
      "segments/3/segment-header.properties\n",
      "segments/3/channels/height.dat\n",
      "segments/3/channels/vDeflection.dat\n",
      "segments/3/channels/strainGaugeHeight.dat\n",
      "segments/3/channels/hDeflection.dat\n",
      "segments/3/channels/error.dat\n"
     ]
    }
   ],
   "source": [
    "list_of_files = z.filelist\n",
    "for f in list_of_files:\n",
    "    print f.filename"
   ]
  },
  {
   "cell_type": "code",
   "execution_count": 4,
   "metadata": {
    "collapsed": false
   },
   "outputs": [
    {
     "name": "stdout",
     "output_type": "stream",
     "text": [
      "header.properties\n",
      "#Wed Jun 15 13:17:28 CEST 2016\n",
      "\n",
      "jpk-data-file=spm-forcefile\n",
      "\n",
      "file-format-version=0.12\n",
      "\n"
     ]
    }
   ],
   "source": [
    "print list_of_files[0].filename\n",
    "f = z.open(list_of_files[0].filename)\n",
    "lines = f.readlines()\n",
    "print lines[0]\n",
    "print lines[1]\n",
    "print lines[2]"
   ]
  },
  {
   "cell_type": "markdown",
   "metadata": {},
   "source": [
    "### 2. Parse header files to dictionaries\n",
    "As printed above, the first line of the top-level header.properties file contains date and time, preceded by a '#'.  \n",
    "The following lines contain properties of the form \"key=value\"."
   ]
  },
  {
   "cell_type": "markdown",
   "metadata": {},
   "source": [
    "To extract the time, one can use dateutil.parser"
   ]
  },
  {
   "cell_type": "code",
   "execution_count": 6,
   "metadata": {
    "collapsed": true
   },
   "outputs": [],
   "source": [
    "from dateutil import parser"
   ]
  },
  {
   "cell_type": "code",
   "execution_count": 7,
   "metadata": {
    "collapsed": false
   },
   "outputs": [
    {
     "name": "stdout",
     "output_type": "stream",
     "text": [
      "2016-06-15 13:17:28+02:00\n"
     ]
    }
   ],
   "source": [
    "t = parser.parse(lines[0][1:])\n",
    "print t"
   ]
  },
  {
   "cell_type": "markdown",
   "metadata": {},
   "source": [
    "The remainder of the lines should contain properties following the syntax mentioned above. They can easily be parsed to a dictionary."
   ]
  },
  {
   "cell_type": "code",
   "execution_count": 8,
   "metadata": {
    "collapsed": false
   },
   "outputs": [],
   "source": [
    "_properties = {}\n",
    "for line in lines[1:]:\n",
    "    key, value = line.split(\"=\")\n",
    "    value.strip()\n",
    "    _properties[key] = value"
   ]
  },
  {
   "cell_type": "code",
   "execution_count": 9,
   "metadata": {
    "collapsed": true
   },
   "outputs": [
    {
     "name": "stdout",
     "output_type": "stream",
     "text": [
      "force-scan-series.header.force-settings.retract-scan-time  =  10.0\n",
      "\n",
      "force-scan-series.header.force-settings.pause-before-first.pause-option.type  =  constant-height\n",
      "\n",
      "force-scan-series.description.comment  =  no comment entry\n",
      "\n",
      "force-scan-series.header.force-settings.force-baseline-adjust-settings.beginOfLine  =  true\n",
      "\n",
      "force-scan-series.header.force-settings.retract-k-length  =  60000\n",
      "\n",
      "force-scan-series.header.force-settings.control-settings-type  =  segment-control-settings\n",
      "\n",
      "force-scan-series.header.force-settings.extended-pause-k-length  =  30000\n",
      "\n",
      "force-scan-series.header.force-settings.z-end-pause-option.type  =  constant-height\n",
      "\n",
      "force-scan-series.description.source-software  =  4.0.33\n",
      "\n",
      "force-scan-series.header.force-settings.data-description.comment  =  \n",
      "\n",
      "force-scan-series.header.force-settings.pause-before-first.height-limit  =  NaN\n",
      "\n",
      "force-scan-series.description.name  =  no name entry\n",
      "\n",
      "force-scan-series.header.force-settings.force-baseline-adjust-settings.deadtimeBeforeSamples  =  100\n",
      "\n",
      "force-scan-series.header.force-settings.retracted-pause-time  =  5.0\n",
      "\n",
      "force-scan-series.description.probe  =  no probe entry\n",
      "\n",
      "force-scan-series.header.force-settings.pause-before-first.identifier.type  =  standard\n",
      "\n",
      "force-scan-series.header.force-settings.relative-z-end  =  0.0\n",
      "\n",
      "force-scan-series.header.type  =  simple-force-scan-series-header\n",
      "\n",
      "force-scan-series.force-segments.count  =  5\n",
      "\n",
      "force-scan-series.header.force-settings.data-description.source-software  =  \n",
      "\n",
      "force-scan-series.header.force-settings.force-baseline-adjust-settings.enabled  =  true\n",
      "\n",
      "file-format-version  =  0.12\n",
      "\n",
      "force-scan-series.description.user-name  =  jpkuser\n",
      "\n",
      "force-scan-series.description.modification-software  =  \n",
      "\n",
      "force-scan-series.header.force-settings.extend-k-length  =  60000\n",
      "\n",
      "force-scan-series.header.force-settings.pause-before-first.identifier.name  =  pause-cellhesion200\n",
      "\n",
      "force-scan-series.header.force-settings.type  =  relative-force-settings\n",
      "\n",
      "force-scan-series.header.force-settings.force-baseline-adjust-settings.interval  =  1\n",
      "\n",
      "force-scan-series.header.force-settings.data-description.modification-software  =  \n",
      "\n",
      "force-scan-series.description.instrument  =  JPK00842-CellHesion-200\n",
      "\n",
      "force-scan-series.header.force-settings.closed-loop  =  true\n",
      "\n",
      "force-scan-series.header.force-settings.start-option.type  =  continue\n",
      "\n",
      "force-scan-series.header.force-settings.data-description.instrument  =  \n",
      "\n",
      "force-scan-series.header.force-settings.data-description.user-name  =  \n",
      "\n",
      "force-scan-series.header.force-settings.extended-pause-time  =  5.0\n",
      "\n",
      "type  =  force-scan-series\n",
      "\n",
      "force-scan-series.header.force-settings.z-start-pause-option.type  =  constant-height\n",
      "\n",
      "force-scan-series.header.force-settings.relative-z-start  =  5.0E-5\n",
      "\n",
      "jpk-data-file  =  spm-forcefile\n",
      "\n",
      "force-scan-series.header.force-settings.pause-before-first.num-points  =  0\n",
      "\n",
      "force-scan-series.header.force-settings.extend-scan-time  =  10.0\n",
      "\n",
      "force-scan-series.header.force-settings.data-description.probe  =  \n",
      "\n",
      "force-scan-series.header.force-settings.pause-before-first.type  =  constant-height-pause\n",
      "\n",
      "force-scan-series.header.force-settings.data-description.name  =  \n",
      "\n",
      "force-scan-series.header.force-settings.force-baseline-adjust-settings.averageSamples  =  100\n",
      "\n",
      "force-scan-series.header.force-settings.relative-setpoint  =  0.3278660666914438\n",
      "\n",
      "force-scan-series.header.force-settings.pause-before-first.style  =  pause\n",
      "\n",
      "force-scan-series.header.force-settings.start-with-retract  =  false\n",
      "\n",
      "force-scan-series.header.force-settings.pause-before-first.duration  =  0.0\n",
      "\n"
     ]
    }
   ],
   "source": [
    "for p in _properties:\n",
    "    print p,\" = \",_properties[p]"
   ]
  },
  {
   "cell_type": "markdown",
   "metadata": {},
   "source": [
    "### 2.1 Parsing properties into tree-like dictionary\n",
    "Properties seem to have a tree like structure, with node labels separated by dots. It appears more appropriate to parse them into a dictionary with sub-dictionaries recursively."
   ]
  },
  {
   "cell_type": "code",
   "execution_count": 10,
   "metadata": {
    "collapsed": true
   },
   "outputs": [],
   "source": [
    "properties = {}\n",
    "for line in lines[1:]:\n",
    "    key,value = line.split(\"=\")\n",
    "    value = value.strip()\n",
    "    \n",
    "    split_key = key.split(\".\")\n",
    "    d = properties\n",
    "    if len(split_key) > 1:\n",
    "        for s in split_key[:-1]:\n",
    "            if d.keys().count(s):\n",
    "                d = d[s]\n",
    "            else:\n",
    "                d[s] = {}\n",
    "                d = d[s]\n",
    "    d[split_key[-1]] = value"
   ]
  },
  {
   "cell_type": "code",
   "execution_count": 11,
   "metadata": {
    "collapsed": true
   },
   "outputs": [
    {
     "name": "stdout",
     "output_type": "stream",
     "text": [
      "type  =  force-scan-series\n",
      "file-format-version  =  0.12\n",
      "jpk-data-file  =  spm-forcefile\n",
      "force-scan-series  =  {'header': {'force-settings': {'data-description': {'comment': '', 'source-software': '', 'user-name': '', 'name': '', 'probe': '', 'instrument': '', 'modification-software': ''}, 'relative-z-start': '5.0E-5', 'extended-pause-k-length': '30000', 'start-option': {'type': 'continue'}, 'force-baseline-adjust-settings': {'averageSamples': '100', 'deadtimeBeforeSamples': '100', 'interval': '1', 'enabled': 'true', 'beginOfLine': 'true'}, 'retracted-pause-time': '5.0', 'retract-scan-time': '10.0', 'relative-z-end': '0.0', 'extend-scan-time': '10.0', 'extended-pause-time': '5.0', 'pause-before-first': {'style': 'pause', 'pause-option': {'type': 'constant-height'}, 'num-points': '0', 'height-limit': 'NaN', 'duration': '0.0', 'identifier': {'type': 'standard', 'name': 'pause-cellhesion200'}, 'type': 'constant-height-pause'}, 'z-end-pause-option': {'type': 'constant-height'}, 'z-start-pause-option': {'type': 'constant-height'}, 'start-with-retract': 'false', 'retract-k-length': '60000', 'closed-loop': 'true', 'relative-setpoint': '0.3278660666914438', 'type': 'relative-force-settings', 'extend-k-length': '60000', 'control-settings-type': 'segment-control-settings'}, 'type': 'simple-force-scan-series-header'}, 'description': {'comment': 'no comment entry', 'source-software': '4.0.33', 'user-name': 'jpkuser', 'name': 'no name entry', 'probe': 'no probe entry', 'instrument': 'JPK00842-CellHesion-200', 'modification-software': ''}, 'force-segments': {'count': '5'}}\n"
     ]
    }
   ],
   "source": [
    "for p in properties:\n",
    "    print p, \" = \",properties[p]"
   ]
  },
  {
   "cell_type": "code",
   "execution_count": 12,
   "metadata": {
    "collapsed": true
   },
   "outputs": [
    {
     "data": {
      "text/plain": [
       "{'averageSamples': '100',\n",
       " 'beginOfLine': 'true',\n",
       " 'deadtimeBeforeSamples': '100',\n",
       " 'enabled': 'true',\n",
       " 'interval': '1'}"
      ]
     },
     "execution_count": 12,
     "metadata": {},
     "output_type": "execute_result"
    }
   ],
   "source": [
    "properties['force-scan-series']['header']['force-settings']['force-baseline-adjust-settings']"
   ]
  },
  {
   "cell_type": "markdown",
   "metadata": {},
   "source": [
    "### 2.2 Lower level header files appear to have a slightly different header with one additional line\n",
    "So here one would have to skip one line at the start, apart from that the format seems to be identical."
   ]
  },
  {
   "cell_type": "code",
   "execution_count": 13,
   "metadata": {
    "collapsed": false
   },
   "outputs": [
    {
     "name": "stdout",
     "output_type": "stream",
     "text": [
      "segments/3/segment-header.properties\n"
     ]
    }
   ],
   "source": [
    "fname = z.filelist[-6].filename\n",
    "print fname"
   ]
  },
  {
   "cell_type": "code",
   "execution_count": 14,
   "metadata": {
    "collapsed": false
   },
   "outputs": [
    {
     "name": "stdout",
     "output_type": "stream",
     "text": [
      "### ----------- internal settings, do not edit this file -----------\n",
      "\n",
      "#Wed Jun 15 13:17:28 CEST 2016\n",
      "\n"
     ]
    }
   ],
   "source": [
    "f = z.open(fname)\n",
    "lines = f.readlines()\n",
    "print(lines[0])\n",
    "print(lines[1])"
   ]
  },
  {
   "cell_type": "markdown",
   "metadata": {},
   "source": [
    "### 3. Read data from files\n",
    "Data files (.dat) contain data apparently exclusively in C short format. To convert it to python-compatible integers, use the struct module."
   ]
  },
  {
   "cell_type": "code",
   "execution_count": 14,
   "metadata": {
    "collapsed": true
   },
   "outputs": [],
   "source": [
    "from struct import unpack"
   ]
  },
  {
   "cell_type": "code",
   "execution_count": 15,
   "metadata": {
    "collapsed": false
   },
   "outputs": [
    {
     "name": "stdout",
     "output_type": "stream",
     "text": [
      "segments/2/channels/height.dat\n"
     ]
    }
   ],
   "source": [
    "fname = z.filelist[-12].filename\n",
    "print fname"
   ]
  },
  {
   "cell_type": "code",
   "execution_count": 16,
   "metadata": {
    "collapsed": false
   },
   "outputs": [
    {
     "name": "stdout",
     "output_type": "stream",
     "text": [
      "120000\n"
     ]
    }
   ],
   "source": [
    "f = z.open(fname)\n",
    "content = f.read()\n",
    "print(len(content))"
   ]
  },
  {
   "cell_type": "markdown",
   "metadata": {},
   "source": [
    "According to the JPKay guys, every 4 items make one data point"
   ]
  },
  {
   "cell_type": "code",
   "execution_count": 17,
   "metadata": {
    "collapsed": false
   },
   "outputs": [
    {
     "data": {
      "text/plain": [
       "('8', '\\x02', '8', '\\x02')"
      ]
     },
     "execution_count": 17,
     "metadata": {},
     "output_type": "execute_result"
    }
   ],
   "source": [
    "content[0], content[1], content[2], content[3]"
   ]
  },
  {
   "cell_type": "code",
   "execution_count": 18,
   "metadata": {
    "collapsed": false
   },
   "outputs": [
    {
     "name": "stdout",
     "output_type": "stream",
     "text": [
      "(939669506,)\n"
     ]
    }
   ],
   "source": [
    "data = unpack(\">i\", content[0:4])\n",
    "print data"
   ]
  },
  {
   "cell_type": "markdown",
   "metadata": {},
   "source": [
    "According to the struct.unpack documentation, however, every 2 items should make a data point in short format.\n",
    "I don't  get why the header says format is short ..."
   ]
  },
  {
   "cell_type": "code",
   "execution_count": 19,
   "metadata": {
    "collapsed": false
   },
   "outputs": [
    {
     "name": "stdout",
     "output_type": "stream",
     "text": [
      "segments/2/segment-header.properties\n",
      "short\n"
     ]
    }
   ],
   "source": [
    "fname = z.filelist[-13].filename\n",
    "print fname\n",
    "f = z.open(fname)\n",
    "lines = f.readlines()\n",
    "properties = {}\n",
    "for line in lines[2:]:\n",
    "    key,value = line.split(\"=\")\n",
    "    value = value.strip()\n",
    "    \n",
    "    split_key = key.split(\".\")\n",
    "    d = properties\n",
    "    if len(split_key) > 1:\n",
    "        for s in split_key[:-1]:\n",
    "            if d.keys().count(s):\n",
    "                d = d[s]\n",
    "            else:\n",
    "                d[s] = {}\n",
    "                d = d[s]\n",
    "    d[split_key[-1]] = value\n",
    "print properties['channel']['height']['data']['type']"
   ]
  },
  {
   "cell_type": "markdown",
   "metadata": {},
   "source": [
    " ... and they still use 4 items instead of 2."
   ]
  },
  {
   "cell_type": "code",
   "execution_count": 20,
   "metadata": {
    "collapsed": false
   },
   "outputs": [
    {
     "name": "stdout",
     "output_type": "stream",
     "text": [
      "(14338,)\n"
     ]
    }
   ],
   "source": [
    "data = unpack(\">h\", content[0:2])\n",
    "print data"
   ]
  },
  {
   "cell_type": "markdown",
   "metadata": {},
   "source": [
    "With 120000 items per data file, and a number of points apparently 60000 ..."
   ]
  },
  {
   "cell_type": "code",
   "execution_count": 21,
   "metadata": {
    "collapsed": false
   },
   "outputs": [
    {
     "data": {
      "text/plain": [
       "'60000'"
      ]
     },
     "execution_count": 21,
     "metadata": {},
     "output_type": "execute_result"
    }
   ],
   "source": [
    "properties['force-segment-header']['num-points']"
   ]
  },
  {
   "cell_type": "markdown",
   "metadata": {},
   "source": [
    "... 2 items has to be right, not 4."
   ]
  },
  {
   "cell_type": "code",
   "execution_count": null,
   "metadata": {
    "collapsed": true
   },
   "outputs": [],
   "source": []
  }
 ],
 "metadata": {
  "kernelspec": {
   "display_name": "Python 2",
   "language": "python",
   "name": "python2"
  },
  "language_info": {
   "codemirror_mode": {
    "name": "ipython",
    "version": 2
   },
   "file_extension": ".py",
   "mimetype": "text/x-python",
   "name": "python",
   "nbconvert_exporter": "python",
   "pygments_lexer": "ipython2",
   "version": "2.7.6"
  }
 },
 "nbformat": 4,
 "nbformat_minor": 0
}
