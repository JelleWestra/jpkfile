{
 "cells": [
  {
   "cell_type": "markdown",
   "metadata": {},
   "source": [
    "# JPK archive\n",
    "\n",
    "\n",
    "JPK files are zipped archives of data. \n",
    "\n",
    "* There is a header file at the top-level\n",
    "* Header files are normal text files, nothing special needed to read them\n",
    "* There is a segments folder\n",
    "    * the segments folder contains numbered folders, one per segment  \n",
    "    * each folder in segments contains another header file\n",
    "    * each folder in segments contains a folder named channels\n",
    "        * each channels folder contains several data files\n",
    "        * data files contain data in C short format, at least in my example file\n",
    "        * there seems to be no header in the .dat files, only pure (integer, i.e. short) data"
   ]
  },
  {
   "cell_type": "markdown",
   "metadata": {},
   "source": [
    "## Reading data from JPK archives\n",
    "\n",
    "Most of this information on how to read JPKs using python I got from the [JPKay module](https://github.com/tku137/JPKay)."
   ]
  },
  {
   "cell_type": "markdown",
   "metadata": {},
   "source": [
    "### 1. Open the zipped archive using zipfile"
   ]
  },
  {
   "cell_type": "code",
   "execution_count": 1,
   "metadata": {
    "collapsed": true
   },
   "outputs": [],
   "source": [
    "from zipfile import ZipFile\n",
    "fname = \"../examples/force-save-2016.07.05-10.00.50.062.jpk-nt-force\""
   ]
  },
  {
   "cell_type": "code",
   "execution_count": 2,
   "metadata": {
    "collapsed": true
   },
   "outputs": [],
   "source": [
    "z = ZipFile(fname)"
   ]
  },
  {
   "cell_type": "markdown",
   "metadata": {},
   "source": [
    "#### It you can get the list of files stored in the zip archive, and you can open files using the instance's open function"
   ]
  },
  {
   "cell_type": "code",
   "execution_count": 3,
   "metadata": {
    "collapsed": true
   },
   "outputs": [
    {
     "name": "stdout",
     "output_type": "stream",
     "text": [
      "header.properties\n",
      "segments/\n",
      "segments/0/\n",
      "segments/0/segment-header.properties\n",
      "segments/0/channels/xSignal1.dat\n",
      "segments/0/channels/ySignal1.dat\n",
      "segments/0/channels/zSignal1.dat\n",
      "segments/0/channels/xSignal2.dat\n",
      "segments/0/channels/ySignal2.dat\n",
      "segments/0/channels/zSignal2.dat\n",
      "segments/0/channels/xySum1.dat\n",
      "segments/0/channels/xySum2.dat\n",
      "segments/0/channels/height.dat\n",
      "segments/0/channels/xLaserOutput1.dat\n",
      "segments/0/channels/yLaserOutput1.dat\n",
      "segments/0/channels/xLaserOutput2.dat\n",
      "segments/0/channels/yLaserOutput2.dat\n",
      "segments/0/channels/precision-1.dat\n",
      "segments/0/channels/precision-2.dat\n",
      "segments/0/channels/precision-3.dat\n",
      "segments/0/channels/precision-4.dat\n",
      "segments/0/channels/capacitiveSensorXPosition.dat\n",
      "segments/0/channels/capacitiveSensorYPosition.dat\n",
      "segments/0/channels/capacitiveSensorHeight.dat\n",
      "segments/0/channels/xPiezoOutput.dat\n",
      "segments/0/channels/yPiezoOutput.dat\n",
      "segments/0/channels/trapDistance.dat\n",
      "segments/1/\n",
      "segments/1/segment-header.properties\n",
      "segments/1/channels/xSignal1.dat\n",
      "segments/1/channels/ySignal1.dat\n",
      "segments/1/channels/zSignal1.dat\n",
      "segments/1/channels/xSignal2.dat\n",
      "segments/1/channels/ySignal2.dat\n",
      "segments/1/channels/zSignal2.dat\n",
      "segments/1/channels/xySum1.dat\n",
      "segments/1/channels/xySum2.dat\n",
      "segments/1/channels/height.dat\n",
      "segments/1/channels/xLaserOutput1.dat\n",
      "segments/1/channels/yLaserOutput1.dat\n",
      "segments/1/channels/xLaserOutput2.dat\n",
      "segments/1/channels/yLaserOutput2.dat\n",
      "segments/1/channels/precision-1.dat\n",
      "segments/1/channels/precision-2.dat\n",
      "segments/1/channels/precision-3.dat\n",
      "segments/1/channels/precision-4.dat\n",
      "segments/1/channels/capacitiveSensorXPosition.dat\n",
      "segments/1/channels/capacitiveSensorYPosition.dat\n",
      "segments/1/channels/capacitiveSensorHeight.dat\n",
      "segments/1/channels/xPiezoOutput.dat\n",
      "segments/1/channels/yPiezoOutput.dat\n",
      "segments/2/\n",
      "segments/2/segment-header.properties\n",
      "segments/2/channels/xSignal1.dat\n",
      "segments/2/channels/ySignal1.dat\n",
      "segments/2/channels/zSignal1.dat\n",
      "segments/2/channels/xSignal2.dat\n",
      "segments/2/channels/ySignal2.dat\n",
      "segments/2/channels/zSignal2.dat\n",
      "segments/2/channels/xySum1.dat\n",
      "segments/2/channels/xySum2.dat\n",
      "segments/2/channels/height.dat\n",
      "segments/2/channels/xLaserOutput1.dat\n",
      "segments/2/channels/yLaserOutput1.dat\n",
      "segments/2/channels/xLaserOutput2.dat\n",
      "segments/2/channels/yLaserOutput2.dat\n",
      "segments/2/channels/precision-1.dat\n",
      "segments/2/channels/precision-2.dat\n",
      "segments/2/channels/precision-3.dat\n",
      "segments/2/channels/precision-4.dat\n",
      "segments/2/channels/capacitiveSensorXPosition.dat\n",
      "segments/2/channels/capacitiveSensorYPosition.dat\n",
      "segments/2/channels/capacitiveSensorHeight.dat\n",
      "segments/2/channels/xPiezoOutput.dat\n",
      "segments/2/channels/yPiezoOutput.dat\n",
      "segments/2/channels/trapDistance.dat\n",
      "shared-data/header.properties\n"
     ]
    }
   ],
   "source": [
    "list_of_files = z.filelist\n",
    "for f in list_of_files:\n",
    "    print f.filename"
   ]
  },
  {
   "cell_type": "code",
   "execution_count": 4,
   "metadata": {
    "collapsed": false
   },
   "outputs": [
    {
     "name": "stdout",
     "output_type": "stream",
     "text": [
      "header.properties\n",
      "#Tue Jul 05 10:00:59 CEST 2016\n",
      "\n",
      "jpk-data-file=pfm-forcefile\n",
      "\n",
      "file-format-version=2.0\n",
      "\n"
     ]
    }
   ],
   "source": [
    "print list_of_files[0].filename\n",
    "f = z.open(list_of_files[0].filename)\n",
    "lines = f.readlines()\n",
    "print lines[0]\n",
    "print lines[1]\n",
    "print lines[2]"
   ]
  },
  {
   "cell_type": "markdown",
   "metadata": {},
   "source": [
    "### 2. Parse header files to dictionaries\n",
    "As printed above, the first line of the top-level header.properties file contains date and time, preceded by a '#'.  \n",
    "The following lines contain properties of the form \"key=value\"."
   ]
  },
  {
   "cell_type": "markdown",
   "metadata": {},
   "source": [
    "To extract the time, one can use dateutil.parser"
   ]
  },
  {
   "cell_type": "code",
   "execution_count": 5,
   "metadata": {
    "collapsed": true
   },
   "outputs": [],
   "source": [
    "from dateutil import parser"
   ]
  },
  {
   "cell_type": "code",
   "execution_count": 6,
   "metadata": {
    "collapsed": false
   },
   "outputs": [
    {
     "name": "stdout",
     "output_type": "stream",
     "text": [
      "2016-07-05 10:00:59+02:00\n"
     ]
    }
   ],
   "source": [
    "t = parser.parse(lines[0][1:])\n",
    "print t"
   ]
  },
  {
   "cell_type": "markdown",
   "metadata": {},
   "source": [
    "The remainder of the lines should contain properties following the syntax mentioned above. They can easily be parsed to a dictionary."
   ]
  },
  {
   "cell_type": "code",
   "execution_count": 7,
   "metadata": {
    "collapsed": false
   },
   "outputs": [],
   "source": [
    "_properties = {}\n",
    "for line in lines[1:]:\n",
    "    key, value = line.split(\"=\")\n",
    "    value.strip()\n",
    "    _properties[key] = value"
   ]
  },
  {
   "cell_type": "code",
   "execution_count": 8,
   "metadata": {
    "collapsed": true
   },
   "outputs": [
    {
     "name": "stdout",
     "output_type": "stream",
     "text": [
      "force-scan-series.header.force-settings.retract-scan-time  =  7.999999999999998\n",
      "\n",
      "force-scan-series.header.force-settings.pause-before-first.pause-option.type  =  constant-height\n",
      "\n",
      "force-scan-series.header.force-settings.end.x  =  7.620000124584494E-6\n",
      "\n",
      "force-scan-series.header.force-settings.start.z  =  2.449293598294708E-22\n",
      "\n",
      "force-scan-series.header.force-settings.start.x  =  1.1620000124584497E-5\n",
      "\n",
      "force-scan-series.header.force-settings.start.y  =  -2.499999874362724E-6\n",
      "\n",
      "force-scan-series.header.force-settings.feedback  =  xSignal1\n",
      "\n",
      "force-scan-series.header.force-settings.end.y  =  -2.499999874362724E-6\n",
      "\n",
      "force-scan-series.header.force-settings.force-baseline-adjust-settings.interval  =  1\n",
      "\n",
      "force-scan-series.header.force-settings.retract-k-length  =  16384\n",
      "\n",
      "force-scan-series.header.force-settings.control-settings-type  =  segment-control-settings\n",
      "\n",
      "force-scan-series.header.force-settings.extended-pause-k-length  =  0\n",
      "\n",
      "force-scan-series.header.force-settings.line-clock.active.extend  =  false\n",
      "\n",
      "force-scan-series.header.force-settings.z-end-pause-option.type  =  constant-height\n",
      "\n",
      "force-scan-series.description.source-software  =  3.0.11\n",
      "\n",
      "force-scan-series.header.force-settings.retracted-pause-k-length  =  2048\n",
      "\n",
      "force-scan-series.header.force-settings.data-description.comment  =  \n",
      "\n",
      "force-scan-series.header.force-settings.pause-before-first.height-limit  =  NaN\n",
      "\n",
      "force-scan-series.description.name  =  \n",
      "\n",
      "force-scan-series.header.force-settings.force-baseline-adjust-settings.deadtimeBeforeSamples  =  100\n",
      "\n",
      "force-scan-series.header.force-settings.retracted-pause-time  =  0.9999999999999996\n",
      "\n",
      "force-scan-series.description.probe  =  \n",
      "\n",
      "force-scan-series.header.force-settings.ttl-outputs.pins.list  =  \n",
      "\n",
      "force-scan-series.header.force-settings.pause-before-first.identifier.type  =  standard\n",
      "\n",
      "force-scan-series.header.force-settings.force-baseline-adjust-settings.liquid  =  true\n",
      "\n",
      "force-scan-series.header.type  =  nt-force-scan-series-header\n",
      "\n",
      "force-scan-series.force-segments.count  =  3\n",
      "\n",
      "force-scan-series.header.force-settings.data-description.source-software  =  \n",
      "\n",
      "force-scan-series.header.force-settings.force-baseline-adjust-settings.enabled  =  false\n",
      "\n",
      "file-format-version  =  2.0\n",
      "\n",
      "force-scan-series.description.user-name  =  jpkuser\n",
      "\n",
      "force-scan-series.header.force-settings.data-description.name  =  \n",
      "\n",
      "force-scan-series.description.modification-software  =  \n",
      "\n",
      "force-scan-series.header.force-settings.extend-k-length  =  16384\n",
      "\n",
      "force-scan-series.header.force-settings.pause-before-first.identifier.name  =  pause-pfm\n",
      "\n",
      "force-scan-series.header.force-settings.type  =  absolute-force-settings-3d\n",
      "\n",
      "force-scan-series.header.force-settings.force-baseline-adjust-settings.beginOfLine  =  true\n",
      "\n",
      "force-scan-series.header.force-settings.data-description.modification-software  =  \n",
      "\n",
      "force-scan-series.description.instrument  =  JPK10040\n",
      "\n",
      "force-scan-series.header.force-settings.closed-loop  =  false\n",
      "\n",
      "force-scan-series.header.force-settings.end.z  =  0.0\n",
      "\n",
      "force-scan-series.header.force-settings.start-option.type  =  continue\n",
      "\n",
      "force-scan-series.header.force-settings.data-description.instrument  =  \n",
      "\n",
      "force-scan-series.header.force-settings.data-description.user-name  =  \n",
      "\n",
      "force-scan-series.header.force-settings.extended-pause-time  =  0.0\n",
      "\n",
      "force-scan-series.header.force-settings.line-clock.active.retract  =  false\n",
      "\n",
      "force-scan-series.description.comment  =  \n",
      "\n",
      "type  =  force-scan-series\n",
      "\n",
      "force-scan-series.header.force-settings.z-start-pause-option.type  =  constant-height\n",
      "\n",
      "jpk-data-file  =  pfm-forcefile\n",
      "\n",
      "force-scan-series.header.force-settings.pause-before-first.num-points  =  0\n",
      "\n",
      "force-scan-series.header.force-settings.extend-scan-time  =  7.999999999999998\n",
      "\n",
      "force-scan-series.header.force-settings.data-description.probe  =  \n",
      "\n",
      "force-scan-series.header.force-settings.pause-before-first.type  =  constant-height-pause\n",
      "\n",
      "file-format-features  =  4004013\n",
      "\n",
      "force-scan-series.header.force-settings.force-baseline-adjust-settings.averageSamples  =  100\n",
      "\n",
      "force-scan-series.header.force-settings.pause-before-first.style  =  pause\n",
      "\n",
      "force-scan-series.header.force-settings.start-with-retract  =  true\n",
      "\n",
      "force-scan-series.header.force-settings.pause-before-first.duration  =  0.0\n",
      "\n"
     ]
    }
   ],
   "source": [
    "for p in _properties:\n",
    "    print p,\" = \",_properties[p]"
   ]
  },
  {
   "cell_type": "markdown",
   "metadata": {},
   "source": [
    "### 2.1 Parsing properties into tree-like dictionary\n",
    "Properties seem to have a tree like structure, with node labels separated by dots. It appears more appropriate to parse them into a dictionary with sub-dictionaries recursively."
   ]
  },
  {
   "cell_type": "code",
   "execution_count": 9,
   "metadata": {
    "collapsed": true
   },
   "outputs": [],
   "source": [
    "properties = {}\n",
    "for line in lines[1:]:\n",
    "    key,value = line.split(\"=\")\n",
    "    value = value.strip()\n",
    "    \n",
    "    split_key = key.split(\".\")\n",
    "    d = properties\n",
    "    if len(split_key) > 1:\n",
    "        for s in split_key[:-1]:\n",
    "            if d.keys().count(s):\n",
    "                d = d[s]\n",
    "            else:\n",
    "                d[s] = {}\n",
    "                d = d[s]\n",
    "    d[split_key[-1]] = value"
   ]
  },
  {
   "cell_type": "code",
   "execution_count": 10,
   "metadata": {
    "collapsed": true
   },
   "outputs": [
    {
     "name": "stdout",
     "output_type": "stream",
     "text": [
      "type  =  force-scan-series\n",
      "file-format-version  =  2.0\n",
      "jpk-data-file  =  pfm-forcefile\n",
      "force-scan-series  =  {'header': {'force-settings': {'closed-loop': 'false', 'feedback': 'xSignal1', 'start-with-retract': 'true', 'extend-scan-time': '7.999999999999998', 'pause-before-first': {'style': 'pause', 'pause-option': {'type': 'constant-height'}, 'num-points': '0', 'height-limit': 'NaN', 'duration': '0.0', 'identifier': {'type': 'standard', 'name': 'pause-pfm'}, 'type': 'constant-height-pause'}, 'retract-k-length': '16384', 'extend-k-length': '16384', 'data-description': {'comment': '', 'source-software': '', 'user-name': '', 'name': '', 'probe': '', 'instrument': '', 'modification-software': ''}, 'retracted-pause-k-length': '2048', 'extended-pause-k-length': '0', 'start-option': {'type': 'continue'}, 'start': {'y': '-2.499999874362724E-6', 'x': '1.1620000124584497E-5', 'z': '2.449293598294708E-22'}, 'extended-pause-time': '0.0', 'line-clock': {'active': {'retract': 'false', 'extend': 'false'}}, 'z-start-pause-option': {'type': 'constant-height'}, 'type': 'absolute-force-settings-3d', 'z-end-pause-option': {'type': 'constant-height'}, 'force-baseline-adjust-settings': {'deadtimeBeforeSamples': '100', 'liquid': 'true', 'averageSamples': '100', 'interval': '1', 'enabled': 'false', 'beginOfLine': 'true'}, 'end': {'y': '-2.499999874362724E-6', 'x': '7.620000124584494E-6', 'z': '0.0'}, 'ttl-outputs': {'pins': {'list': ''}}, 'retracted-pause-time': '0.9999999999999996', 'retract-scan-time': '7.999999999999998', 'control-settings-type': 'segment-control-settings'}, 'type': 'nt-force-scan-series-header'}, 'description': {'comment': '', 'source-software': '3.0.11', 'user-name': 'jpkuser', 'name': '', 'probe': '', 'instrument': 'JPK10040', 'modification-software': ''}, 'force-segments': {'count': '3'}}\n",
      "file-format-features  =  4004013\n"
     ]
    }
   ],
   "source": [
    "for p in properties:\n",
    "    print p, \" = \",properties[p]"
   ]
  },
  {
   "cell_type": "code",
   "execution_count": 11,
   "metadata": {
    "collapsed": true
   },
   "outputs": [
    {
     "data": {
      "text/plain": [
       "{'averageSamples': '100',\n",
       " 'beginOfLine': 'true',\n",
       " 'deadtimeBeforeSamples': '100',\n",
       " 'enabled': 'false',\n",
       " 'interval': '1',\n",
       " 'liquid': 'true'}"
      ]
     },
     "execution_count": 11,
     "metadata": {},
     "output_type": "execute_result"
    }
   ],
   "source": [
    "properties['force-scan-series']['header']['force-settings']['force-baseline-adjust-settings']"
   ]
  },
  {
   "cell_type": "markdown",
   "metadata": {},
   "source": [
    "### 2.2 In contrast to jpk-force archives, lower level header files appear to have the same beginning with time stamp in first line\n",
    "No lines need to be skipped."
   ]
  },
  {
   "cell_type": "code",
   "execution_count": 21,
   "metadata": {
    "collapsed": false
   },
   "outputs": [
    {
     "name": "stdout",
     "output_type": "stream",
     "text": [
      "segments/2/segment-header.properties\n"
     ]
    }
   ],
   "source": [
    "fname = z.filelist[-25].filename\n",
    "print fname"
   ]
  },
  {
   "cell_type": "code",
   "execution_count": 22,
   "metadata": {
    "collapsed": false
   },
   "outputs": [
    {
     "name": "stdout",
     "output_type": "stream",
     "text": [
      "#Tue Jul 05 10:00:59 CEST 2016\n",
      "\n",
      "force-segment-header.type=xyz-position-segment-header\n",
      "\n"
     ]
    }
   ],
   "source": [
    "f = z.open(fname)\n",
    "lines = f.readlines()\n",
    "print(lines[0])\n",
    "print(lines[1])"
   ]
  },
  {
   "cell_type": "markdown",
   "metadata": {},
   "source": [
    "### 3. Read data from files\n",
    "Data files (.dat) contain data apparently exclusively in C short format. To convert it to python-compatible integers, use the struct module."
   ]
  },
  {
   "cell_type": "code",
   "execution_count": 23,
   "metadata": {
    "collapsed": true
   },
   "outputs": [],
   "source": [
    "from struct import unpack"
   ]
  },
  {
   "cell_type": "code",
   "execution_count": 24,
   "metadata": {
    "collapsed": false
   },
   "outputs": [
    {
     "name": "stdout",
     "output_type": "stream",
     "text": [
      "segments/2/channels/yLaserOutput2.dat\n"
     ]
    }
   ],
   "source": [
    "fname = z.filelist[-12].filename\n",
    "print fname"
   ]
  },
  {
   "cell_type": "code",
   "execution_count": 25,
   "metadata": {
    "collapsed": false
   },
   "outputs": [
    {
     "name": "stdout",
     "output_type": "stream",
     "text": [
      "65536\n"
     ]
    }
   ],
   "source": [
    "f = z.open(fname)\n",
    "content = f.read()\n",
    "print(len(content))"
   ]
  },
  {
   "cell_type": "markdown",
   "metadata": {},
   "source": [
    "According to the JPKay guys, every 4 items make one data point"
   ]
  },
  {
   "cell_type": "code",
   "execution_count": 26,
   "metadata": {
    "collapsed": false
   },
   "outputs": [
    {
     "data": {
      "text/plain": [
       "('\\xfe', '\\xc0', '\\x17', '@')"
      ]
     },
     "execution_count": 26,
     "metadata": {},
     "output_type": "execute_result"
    }
   ],
   "source": [
    "content[0], content[1], content[2], content[3]"
   ]
  },
  {
   "cell_type": "code",
   "execution_count": 27,
   "metadata": {
    "collapsed": false
   },
   "outputs": [
    {
     "name": "stdout",
     "output_type": "stream",
     "text": [
      "(-20965568,)\n"
     ]
    }
   ],
   "source": [
    "data = unpack(\">i\", content[0:4])\n",
    "print data"
   ]
  },
  {
   "cell_type": "markdown",
   "metadata": {},
   "source": [
    "## 3.1 How to figure out the number of items making up one data point, i.e., how to figure out the data format of the .dat files?"
   ]
  },
  {
   "cell_type": "markdown",
   "metadata": {},
   "source": [
    "In `jpk-force` archives it was quite simple:\n",
    "* open header file\n",
    "* parse properties to dict\n",
    "* read channel.data.type"
   ]
  },
  {
   "cell_type": "code",
   "execution_count": 29,
   "metadata": {
    "collapsed": false
   },
   "outputs": [
    {
     "name": "stdout",
     "output_type": "stream",
     "text": [
      "segments/2/segment-header.properties\n",
      "short\n"
     ]
    }
   ],
   "source": [
    "_z = ZipFile(\"force-save-2016.06.15-13.17.08.jpk-force\")\n",
    "fname = _z.filelist[-13].filename\n",
    "print fname\n",
    "\"\"\"open header file\"\"\"\n",
    "f = _z.open(fname)\n",
    "lines = f.readlines()\n",
    "\"\"\"parse properties to dict\"\"\"\n",
    "properties = {}\n",
    "for line in lines[2:]:\n",
    "    key,value = line.split(\"=\")\n",
    "    value = value.strip()\n",
    "    \n",
    "    split_key = key.split(\".\")\n",
    "    d = properties\n",
    "    if len(split_key) > 1:\n",
    "        for s in split_key[:-1]:\n",
    "            if d.keys().count(s):\n",
    "                d = d[s]\n",
    "            else:\n",
    "                d[s] = {}\n",
    "                d = d[s]\n",
    "    d[split_key[-1]] = value\n",
    "\"\"\"read one channel's data.type property\"\"\"\n",
    "print properties['channel']['height']['data']['type']"
   ]
  },
  {
   "cell_type": "markdown",
   "metadata": {},
   "source": [
    "But where is this information in a tweezer archive's header?"
   ]
  },
  {
   "cell_type": "code",
   "execution_count": 31,
   "metadata": {
    "collapsed": true
   },
   "outputs": [
    {
     "name": "stdout",
     "output_type": "stream",
     "text": [
      "segments/2/segment-header.properties\n",
      "channels  =  {'list': 'xSignal1 ySignal1 zSignal1 xSignal2 ySignal2 zSignal2 xySum1 xySum2 height xLaserOutput1 yLaserOutput1 xLaserOutput2 yLaserOutput2 precision-1 precision-2 precision-3 precision-4 capacitiveSensorXPosition capacitiveSensorYPosition capacitiveSensorHeight xPiezoOutput yPiezoOutput distance trapDistance'}\n",
      "force-segment-header  =  {'time-stamp': '2016-07-05 10\\\\:00\\\\:59.063 +0200', 'bead-id': '2016.07.05-06.56.10-00001', 'settings': {'style': 'extend', 'segment-settings': {'style': 'extend', 'end': {'y': '-2.499999874362724E-6', 'x': '7.620000124584494E-6', 'z': '0.0'}, 'feedback': 'xSignal1', 'start': {'y': '-2.499999874362724E-6', 'x': '1.1620000124584497E-5', 'z': '2.449293598294708E-22'}, 'num-points': '16384', 'duration': '7.999999999999998', 'identifier': {'type': 'standard', 'name': 'extend-pfm'}, 'type': 'xyz-extend-height'}, 'type': 'combined', 'feedback-mode': {'name': 'default'}}, 'environment': {'traps': {'trap-two': {'position': {'y': '-2.445009491336136E-6', 'x': '1.4285449264063058E-5'}, 'multiplexed': 'false', 'movable': 'true', 'scanner': 'laser-scanner-2'}, 'list': 'trap-one trap-two', 'trap-one': {'position': {'y': '-2.499999874362724E-6', 'x': '7.620000124584494E-6'}, 'multiplexed': 'false', 'movable': 'true', 'scanner': 'laser-scanner-1'}}, 'series-scan-direction': {'y': '0.0', 'x': '1.0', 'z': '6.123233995736766E-17'}, 'z-scanner-map': {'z-scanners': {'active-z-scanner': {'name': 'piezo'}, 'list': 'piezo'}, 'z-scanner': {'piezo': {'z-scanner-environment': {'z-scanner': {'measured-position': 'capacitiveSensorHeight', 'description': '100um Piezo Z Scanner', 'name': 'piezo', 'error-channel': 'error', 'fancy-name': 'Piezo Z Scanner', 'position-channel': 'height'}, 'internal': 'true', 'z-range': {'range': {'max': '5.0E-5', 'min': '-5.0E-5'}, 'fancyname': '100 \\\\u00B5m (max range)'}}}}}, 'segment-start-xy-scanner-position-map': {'xy-scanners': {'list': 'sample-scanner laser-scanner-1 laser-scanner-2', 'position-index': '-1', 'active-xy-scanner': {'name': 'laser-scanner-1'}}, 'xy-scanner': {'sample-scanner': {'xy-scanner': {'description': 'The sample scanner (100x100 um)', 'fancy-name': 'Sample scanner', 'scanner': 'sample-scanner', 'name': 'sample-scanner'}, 'start-position': {'y': '-1.7487426657707703E-12', 'x': '-4.508344436466238E-13'}, 'xy-scanner-mode': {'name': 'hardwareFeedback'}}, 'laser-scanner-2': {'xy-scanner': {'description': 'The second trap', 'fancy-name': 'Trap 2', 'scanner': 'laser-scanner', 'scanner-id': '1', 'name': 'laser-scanner-2'}, 'start-position': {'y': '-2.445009491336136E-6', 'x': '1.4285449264063058E-5'}, 'xy-scanner-mode': {'name': 'hardwareFeedback'}}, 'laser-scanner-1': {'xy-scanner': {'description': 'The first trap', 'fancy-name': 'Trap 1', 'scanner': 'laser-scanner', 'scanner-id': '0', 'name': 'laser-scanner-1'}, 'start-position': {'y': '-2.499999874362724E-6', 'x': '1.1619999897909252E-5'}, 'xy-scanner-mode': {'name': 'hardwareFeedback'}}}}, 'series-start-xy-scanner-position-map': {'xy-scanners': {'list': 'sample-scanner laser-scanner-1 laser-scanner-2', 'position-index': '-1', 'active-xy-scanner': {'name': 'laser-scanner-1'}}, 'xy-scanner': {'sample-scanner': {'xy-scanner': {'description': 'The sample scanner (100x100 um)', 'fancy-name': 'Sample scanner', 'scanner': 'sample-scanner', 'name': 'sample-scanner'}, 'start-position': {'y': '-1.7487426657707703E-12', 'x': '-4.508344436466238E-13'}, 'xy-scanner-mode': {'name': 'hardwareFeedback'}}, 'laser-scanner-2': {'xy-scanner': {'description': 'The second trap', 'fancy-name': 'Trap 2', 'scanner': 'laser-scanner', 'scanner-id': '1', 'name': 'laser-scanner-2'}, 'start-position': {'y': '-2.445009491336136E-6', 'x': '1.4285449264063058E-5'}, 'xy-scanner-mode': {'name': 'hardwareFeedback'}}, 'laser-scanner-1': {'xy-scanner': {'description': 'The first trap', 'fancy-name': 'Trap 1', 'scanner': 'laser-scanner', 'scanner-id': '0', 'name': 'laser-scanner-1'}, 'start-position': {'y': '-2.499999874362724E-6', 'x': '7.620000124584494E-6'}, 'xy-scanner-mode': {'name': 'hardwareFeedback'}}}}, 'xy-scanner-position-map': {'defined': 'true', 'xy-scanners': {'list': 'sample-scanner laser-scanner-1 laser-scanner-2', 'position-index': '0', 'active-xy-scanner': {'name': 'laser-scanner-1'}}, 'xy-scanner': {'sample-scanner': {'xy-scanner': {'description': 'The sample scanner (100x100 um)', 'fancy-name': 'Sample scanner', 'scanner': 'sample-scanner', 'name': 'sample-scanner'}, 'start-position': {'y': '-1.7487426657707703E-12', 'x': '-4.508344436466238E-13'}, 'xy-scanner-mode': {'name': 'hardwareFeedback'}}, 'laser-scanner-2': {'xy-scanner': {'description': 'The second trap', 'fancy-name': 'Trap 2', 'scanner': 'laser-scanner', 'scanner-id': '1', 'name': 'laser-scanner-2'}, 'start-position': {'y': '-2.445009491336136E-6', 'x': '1.4285449264063058E-5'}, 'xy-scanner-mode': {'name': 'hardwareFeedback'}}, 'laser-scanner-1': {'xy-scanner': {'description': 'The first trap', 'fancy-name': 'Trap 1', 'scanner': 'laser-scanner', 'scanner-id': '0', 'name': 'laser-scanner-1'}, 'start-position': {'y': '-2.499999874362724E-6', 'x': '1.1619999897909252E-5'}, 'xy-scanner-mode': {'name': 'hardwareFeedback'}}}}}, 'num-points': '16384', 'duration': '7.999999999999998', 'force-scan-flags': {'z-start-out-of-range': 'false', 'done-scanning': 'false', 'z-end-out-of-range': 'false', 'tipsaver-limit-exceeded': 'false', 'aborted': 'false', 'setpoint-out-of-range': 'false', 'series-done': 'false', 'data-segment': 'true'}, 'name': {'type': 'standard', 'name': 'extend-pfm'}}\n",
      "channel  =  {'xySum1': {'data': {'num-points': '16384', 'file': {'name': 'channels/xySum1.dat', 'format': 'raw'}}, 'lcd-info': {'*': '6'}}, 'xySum2': {'data': {'num-points': '16384', 'file': {'name': 'channels/xySum2.dat', 'format': 'raw'}}, 'lcd-info': {'*': '7'}}, 'height': {'data': {'num-points': '16384', 'file': {'name': 'channels/height.dat', 'format': 'raw'}}, 'lcd-info': {'*': '8'}}, 'yLaserOutput2': {'data': {'num-points': '16384', 'file': {'name': 'channels/yLaserOutput2.dat', 'format': 'raw'}}, 'lcd-info': {'*': '12'}}, 'yLaserOutput1': {'data': {'num-points': '16384', 'file': {'name': 'channels/yLaserOutput1.dat', 'format': 'raw'}}, 'lcd-info': {'*': '10'}}, 'xSignal1': {'data': {'num-points': '16384', 'file': {'name': 'channels/xSignal1.dat', 'format': 'raw'}}, 'lcd-info': {'*': '0'}}, 'xSignal2': {'data': {'num-points': '16384', 'file': {'name': 'channels/xSignal2.dat', 'format': 'raw'}}, 'lcd-info': {'*': '3'}}, 'trapDistance': {'data': {'num-points': '16384', 'file': {'name': 'channels/trapDistance.dat', 'format': 'raw'}}, 'lcd-info': {'*': '23'}}, 'capacitiveSensorXPosition': {'data': {'num-points': '16384', 'file': {'name': 'channels/capacitiveSensorXPosition.dat', 'format': 'raw'}}, 'lcd-info': {'*': '17'}}, 'xPiezoOutput': {'data': {'num-points': '16384', 'file': {'name': 'channels/xPiezoOutput.dat', 'format': 'raw'}}, 'lcd-info': {'*': '20'}}, 'ySignal2': {'data': {'num-points': '16384', 'file': {'name': 'channels/ySignal2.dat', 'format': 'raw'}}, 'lcd-info': {'*': '4'}}, 'ySignal1': {'data': {'num-points': '16384', 'file': {'name': 'channels/ySignal1.dat', 'format': 'raw'}}, 'lcd-info': {'*': '1'}}, 'xLaserOutput2': {'data': {'num-points': '16384', 'file': {'name': 'channels/xLaserOutput2.dat', 'format': 'raw'}}, 'lcd-info': {'*': '11'}}, 'xLaserOutput1': {'data': {'num-points': '16384', 'file': {'name': 'channels/xLaserOutput1.dat', 'format': 'raw'}}, 'lcd-info': {'*': '9'}}, 'yPiezoOutput': {'data': {'num-points': '16384', 'file': {'name': 'channels/yPiezoOutput.dat', 'format': 'raw'}}, 'lcd-info': {'*': '21'}}, 'zSignal2': {'data': {'num-points': '16384', 'file': {'name': 'channels/zSignal2.dat', 'format': 'raw'}}, 'lcd-info': {'*': '5'}}, 'zSignal1': {'data': {'num-points': '16384', 'file': {'name': 'channels/zSignal1.dat', 'format': 'raw'}}, 'lcd-info': {'*': '2'}}, 'precision-1': {'data': {'num-points': '16384', 'file': {'name': 'channels/precision-1.dat', 'format': 'raw'}}, 'lcd-info': {'*': '13'}}, 'precision-2': {'data': {'num-points': '16384', 'file': {'name': 'channels/precision-2.dat', 'format': 'raw'}}, 'lcd-info': {'*': '14'}}, 'precision-3': {'data': {'num-points': '16384', 'file': {'name': 'channels/precision-3.dat', 'format': 'raw'}}, 'lcd-info': {'*': '15'}}, 'precision-4': {'data': {'num-points': '16384', 'file': {'name': 'channels/precision-4.dat', 'format': 'raw'}}, 'lcd-info': {'*': '16'}}, 'distance': {'data': {'start': '3.999877929687502E-6', 'step': '-2.4414062500000014E-10', 'num-points': '16384'}, 'lcd-info': {'*': '22'}}, 'capacitiveSensorYPosition': {'data': {'num-points': '16384', 'file': {'name': 'channels/capacitiveSensorYPosition.dat', 'format': 'raw'}}, 'lcd-info': {'*': '18'}}, 'capacitiveSensorHeight': {'data': {'num-points': '16384', 'file': {'name': 'channels/capacitiveSensorHeight.dat', 'format': 'raw'}}, 'lcd-info': {'*': '19'}}}\n"
     ]
    }
   ],
   "source": [
    "fname = z.filelist[-25].filename\n",
    "print fname\n",
    "f = z.open(fname)\n",
    "lines = f.readlines()\n",
    "properties = {}\n",
    "for line in lines[2:]:\n",
    "    key,value = line.split(\"=\")\n",
    "    value = value.strip()\n",
    "    \n",
    "    split_key = key.split(\".\")\n",
    "    d = properties\n",
    "    if len(split_key) > 1:\n",
    "        for s in split_key[:-1]:\n",
    "            if d.keys().count(s):\n",
    "                d = d[s]\n",
    "            else:\n",
    "                d[s] = {}\n",
    "                d = d[s]\n",
    "    d[split_key[-1]] = value\n",
    "for key in properties:\n",
    "    print key, \" = \", properties[key]"
   ]
  },
  {
   "cell_type": "code",
   "execution_count": null,
   "metadata": {
    "collapsed": true
   },
   "outputs": [],
   "source": []
  }
 ],
 "metadata": {
  "kernelspec": {
   "display_name": "Python 2",
   "language": "python",
   "name": "python2"
  },
  "language_info": {
   "codemirror_mode": {
    "name": "ipython",
    "version": 2
   },
   "file_extension": ".py",
   "mimetype": "text/x-python",
   "name": "python",
   "nbconvert_exporter": "python",
   "pygments_lexer": "ipython2",
   "version": "2.7.6"
  }
 },
 "nbformat": 4,
 "nbformat_minor": 0
}
